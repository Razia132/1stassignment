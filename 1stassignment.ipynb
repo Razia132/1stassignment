{
  "nbformat": 4,
  "nbformat_minor": 0,
  "metadata": {
    "colab": {
      "provenance": []
    },
    "kernelspec": {
      "name": "python3",
      "display_name": "Python 3"
    },
    "language_info": {
      "name": "python"
    }
  },
  "cells": [
    {
      "cell_type": "markdown",
      "source": [
        "#Python Basics\n",
        "1.What is Python, and why is it popular?\n",
        "\n",
        "-> python is a programming language which is defined as a set of rules and symbols used for performing a particular task and python is popular because it  has lot of libraries ,widely used in the industry,easy to learn and has huge cummunity.\n",
        "\n",
        "\n",
        "2.What is an interpreter in Python?\n",
        "\n",
        "->Interpreter in python allows to execute the code line by line or step by step making the user handle errors easily.\n",
        "\n",
        "\n",
        "3.What are pre-defined keywords in Python?\n",
        "\n",
        "->pre-defined keywords are those which cannot be changed their meaning once defined but can be used again and again without defining their actuall code,also there is no need of writing the code of them we can just use key words instead.examples:if,elif,else,for,while,..etc\n",
        "\n",
        "\n",
        "4.Can keywords be used as variable names?\n",
        "\n",
        "->No,because keywords are predefined words which have specific meaning.\n",
        "\n",
        "\n",
        "5.What is mutability in Python?\n",
        "\n",
        "->mutabilty in python allows to change the values/objects once defined example:list is mutable and allows mutability.\n",
        "\n",
        "\n",
        "6.Why are lists mutable, but tuples are immutable?\n",
        "\n",
        "->Because the values in lists are changable and when it comes to tuple the values are unchangable.\n",
        "\n",
        "\n",
        "7.What is the difference between “==” and “is” operators in Python?\n",
        "\n",
        "->\"==\"opereator checks the values are same or not and \"is\" operator checks the address of the values are same or not.\n",
        "\n",
        "\n",
        "8.What are logical operators in Python?\n",
        "\n",
        "->type of operators used to check multiple conditions and return boolean values and the logical operators used are AND,OR,NOT.\n",
        "\n",
        "\n",
        "9.What is type casting in Python?\n",
        "\n",
        "->mechanism used to convert the datatype of a variable to other datatype and has 2 types implicit type casting and explicit type casting.\n",
        "\n",
        "\n",
        "10.What is the difference between implicit and explicit type casting?\n",
        "\n",
        "->Implicit type casting :done byt the python compiler itself,explicit type casting:done by coder manually.\n",
        "\n",
        "\n",
        "11.What is the purpose of conditional statements in Python?\n",
        "\n",
        "->statements used to check multiple conditions and exectute corresponding code.\n",
        "\n",
        "\n",
        "12.How does the elif statement work?\n",
        "\n",
        "->it works similar to multiple if statements that is any one them will execute with respect to the condition.\n",
        "\n",
        "\n",
        "13.What is the difference between for and while loops?\n",
        "\n",
        "->for loop:iterate over a sequence of elements qwithing specified range,while loop:execute block of code till the condition is true or met.\n",
        "\n",
        "\n",
        "14.Describe a scenario where a while loop is more suitable than a for loop.\n",
        "\n",
        "->when we don't know any range of values which should be exectued.\n",
        "\n",
        "\n",
        "\n",
        "\n"
      ],
      "metadata": {
        "id": "Pb5uK7hTvXHZ"
      }
    },
    {
      "cell_type": "code",
      "execution_count": 1,
      "metadata": {
        "colab": {
          "base_uri": "https://localhost:8080/"
        },
        "id": "11OqmnaWvUZg",
        "outputId": "17502c55-0862-4598-97d8-c86f6299ec7f"
      },
      "outputs": [
        {
          "output_type": "stream",
          "name": "stdout",
          "text": [
            "Hello, world!\n"
          ]
        }
      ],
      "source": [
        "#1.Write a Python program to print \"Hello, World!\"\n",
        "print(\"Hello, world!\")"
      ]
    },
    {
      "cell_type": "code",
      "source": [
        "#2.Write a Python program that displays your name and age\n",
        "name =input(\"enter you name:\")\n",
        "Age=int(input(\"enter your age: \"))\n",
        "print (\"name is :\",name,\"and age is:\",Age)\n"
      ],
      "metadata": {
        "colab": {
          "base_uri": "https://localhost:8080/"
        },
        "id": "qUGlgOQ9vVKe",
        "outputId": "95f3b6fe-f35f-46bd-d8b8-f5f2d06fa904"
      },
      "execution_count": 3,
      "outputs": [
        {
          "output_type": "stream",
          "name": "stdout",
          "text": [
            "enter you name:Razia\n",
            "enter your age: 21\n",
            "name is : Razia and age is: 21\n"
          ]
        }
      ]
    },
    {
      "cell_type": "code",
      "source": [
        "#3.Write code to print all the pre-defined keywords in Python using the keyword library\n",
        "help('keywords')"
      ],
      "metadata": {
        "colab": {
          "base_uri": "https://localhost:8080/"
        },
        "id": "PitjquakvVW2",
        "outputId": "cbbab5f7-0988-4a95-a1fe-df45e988e303"
      },
      "execution_count": 4,
      "outputs": [
        {
          "output_type": "stream",
          "name": "stdout",
          "text": [
            "\n",
            "Here is a list of the Python keywords.  Enter any keyword to get more help.\n",
            "\n",
            "False               class               from                or\n",
            "None                continue            global              pass\n",
            "True                def                 if                  raise\n",
            "and                 del                 import              return\n",
            "as                  elif                in                  try\n",
            "assert              else                is                  while\n",
            "async               except              lambda              with\n",
            "await               finally             nonlocal            yield\n",
            "break               for                 not                 \n",
            "\n"
          ]
        }
      ]
    },
    {
      "cell_type": "code",
      "source": [
        "#4.Write a program that checks if a given word is a Python keyword\n",
        "import keyword\n",
        "print(keyword.iskeyword(\"if\"))\n"
      ],
      "metadata": {
        "colab": {
          "base_uri": "https://localhost:8080/"
        },
        "id": "owvtO_CEvVZC",
        "outputId": "244d1c25-3bd7-41ed-d328-fa95a0705205"
      },
      "execution_count": 8,
      "outputs": [
        {
          "output_type": "stream",
          "name": "stdout",
          "text": [
            "True\n"
          ]
        }
      ]
    },
    {
      "cell_type": "code",
      "source": [
        "#5.Create a list and tuple in Python, and demonstrate how attempting to change an element works differently\n",
        "list1=[1,2,\"razzi\",\"sk\"]\n",
        "tuple1=(1,2,\"razzi\",\"sk\")\n",
        "list1[1]=\"hey\"\n",
        "print(list1)\n",
        "tuple1[2]=\"hey\"\n",
        "print(tuple1)\n"
      ],
      "metadata": {
        "colab": {
          "base_uri": "https://localhost:8080/",
          "height": 211
        },
        "id": "bLxt9TDOvVcO",
        "outputId": "9f9d3118-f8a5-4c29-fc9d-336783cb55e3"
      },
      "execution_count": 9,
      "outputs": [
        {
          "output_type": "stream",
          "name": "stdout",
          "text": [
            "[1, 'hey', 'razzi', 'sk']\n"
          ]
        },
        {
          "output_type": "error",
          "ename": "TypeError",
          "evalue": "'tuple' object does not support item assignment",
          "traceback": [
            "\u001b[0;31m---------------------------------------------------------------------------\u001b[0m",
            "\u001b[0;31mTypeError\u001b[0m                                 Traceback (most recent call last)",
            "\u001b[0;32m<ipython-input-9-cf076eea51a6>\u001b[0m in \u001b[0;36m<cell line: 0>\u001b[0;34m()\u001b[0m\n\u001b[1;32m      4\u001b[0m \u001b[0mlist1\u001b[0m\u001b[0;34m[\u001b[0m\u001b[0;36m1\u001b[0m\u001b[0;34m]\u001b[0m\u001b[0;34m=\u001b[0m\u001b[0;34m\"hey\"\u001b[0m\u001b[0;34m\u001b[0m\u001b[0;34m\u001b[0m\u001b[0m\n\u001b[1;32m      5\u001b[0m \u001b[0mprint\u001b[0m\u001b[0;34m(\u001b[0m\u001b[0mlist1\u001b[0m\u001b[0;34m)\u001b[0m\u001b[0;34m\u001b[0m\u001b[0;34m\u001b[0m\u001b[0m\n\u001b[0;32m----> 6\u001b[0;31m \u001b[0mtuple1\u001b[0m\u001b[0;34m[\u001b[0m\u001b[0;36m2\u001b[0m\u001b[0;34m]\u001b[0m\u001b[0;34m=\u001b[0m\u001b[0;34m\"hey\"\u001b[0m\u001b[0;34m\u001b[0m\u001b[0;34m\u001b[0m\u001b[0m\n\u001b[0m\u001b[1;32m      7\u001b[0m \u001b[0mprint\u001b[0m\u001b[0;34m(\u001b[0m\u001b[0mtuple1\u001b[0m\u001b[0;34m)\u001b[0m\u001b[0;34m\u001b[0m\u001b[0;34m\u001b[0m\u001b[0m\n",
            "\u001b[0;31mTypeError\u001b[0m: 'tuple' object does not support item assignment"
          ]
        }
      ]
    },
    {
      "cell_type": "code",
      "source": [
        "#6.Write a function to demonstrate the behavior of mutable and immutable arguments\n",
        "def modify_values(x,y):\n",
        "    x += 1\n",
        "    y.append(10)\n",
        "numberz = 10 #will not change\n",
        "lst1 = [1, 2, 3]  #will change\n",
        "modify_values(numberz, lst1)\n",
        "\n",
        "print(numberz)\n",
        "print(lst1)\n",
        "\n"
      ],
      "metadata": {
        "colab": {
          "base_uri": "https://localhost:8080/"
        },
        "id": "YVjI1YsMvVeD",
        "outputId": "48a29ce3-ad2a-4ad8-abb2-790d48b9e042"
      },
      "execution_count": 3,
      "outputs": [
        {
          "output_type": "stream",
          "name": "stdout",
          "text": [
            "10\n",
            "[1, 2, 3, 10]\n"
          ]
        }
      ]
    },
    {
      "cell_type": "markdown",
      "source": [],
      "metadata": {
        "id": "hj52MCXwvoV0"
      }
    },
    {
      "cell_type": "code",
      "source": [
        "#7.Write a function to demonstrate the behavior of mutable and immutable arguments\n",
        "def modify_values(x,y):\n",
        "    x += 1\n",
        "    y.append(10)\n",
        "numberz = 10 #will not change\n",
        "lst1 = [1, 2, 3]  #will change\n",
        "modify_values(numberz, lst1)\n",
        "\n",
        "print(numberz)\n",
        "print(lst1)\n"
      ],
      "metadata": {
        "colab": {
          "base_uri": "https://localhost:8080/"
        },
        "id": "UzAsDqMiUtLc",
        "outputId": "ff97ada6-c8ce-4001-ecd7-d432383c484d"
      },
      "execution_count": 4,
      "outputs": [
        {
          "output_type": "stream",
          "name": "stdout",
          "text": [
            "10\n",
            "[1, 2, 3, 10]\n"
          ]
        }
      ]
    },
    {
      "cell_type": "code",
      "source": [
        "#8.Write a program to demonstrate the use of logical operators\n",
        "a=2\n",
        "b=3\n",
        "c=4\n",
        "if(a>b and a>c):\n",
        "  print(\"a is greater\")\n",
        "elif(a==b or a==c):\n",
        "  print(\"a is equal to b or c\")\n",
        "elif(not a<b):\n",
        "  print(\"a is greater than b\")\n",
        "else:\n",
        "  print(\"none\")\n",
        "\n",
        ""
      ],
      "metadata": {
        "colab": {
          "base_uri": "https://localhost:8080/"
        },
        "id": "cCwM_sK-UtH_",
        "outputId": "dc8fcc3c-9991-4c61-883b-dbeb44aecb27"
      },
      "execution_count": 6,
      "outputs": [
        {
          "output_type": "stream",
          "name": "stdout",
          "text": [
            "none\n"
          ]
        }
      ]
    },
    {
      "cell_type": "code",
      "source": [
        "#9.Write a Python program to convert user input from string to integer, float, and boolean types\n",
        "a=input(\"enter any integer considered as string:\")\n",
        "type(a)\n",
        "print(int(a))\n",
        "print(float(a))\n",
        "print(bool(a))"
      ],
      "metadata": {
        "colab": {
          "base_uri": "https://localhost:8080/"
        },
        "id": "4Lw-BcyaUtFM",
        "outputId": "d7484264-c4ba-4cbe-857b-1fe1c8d3bcd0"
      },
      "execution_count": 9,
      "outputs": [
        {
          "output_type": "stream",
          "name": "stdout",
          "text": [
            "enter any integer considered as string:56\n",
            "56\n",
            "56.0\n",
            "True\n"
          ]
        }
      ]
    },
    {
      "cell_type": "code",
      "source": [
        "#10. Write code to demonstrate type casting with list elements\n",
        "list1=[1,2,3,4]\n",
        "list1=tuple(list1)#changing from list to tuple\n",
        "print(list1)"
      ],
      "metadata": {
        "colab": {
          "base_uri": "https://localhost:8080/"
        },
        "id": "-tGwjm1LUuqN",
        "outputId": "c5e432fa-e374-4548-af38-a97ce1321386"
      },
      "execution_count": 13,
      "outputs": [
        {
          "output_type": "stream",
          "name": "stdout",
          "text": [
            "(1, 2, 3, 4)\n"
          ]
        }
      ]
    },
    {
      "cell_type": "code",
      "source": [
        "#11.Write a program that checks if a number is positive, negative, or zero\n",
        "n=int(input(\"enter any number:\"))\n",
        "if(n>0):\n",
        "  print(\"the number is positive\")\n",
        "elif(n<0):\n",
        "  print(\" the number is negative\")\n",
        "else:\n",
        "  print(\"the number is zero\")"
      ],
      "metadata": {
        "id": "ezQET6x0Uumx"
      },
      "execution_count": null,
      "outputs": []
    },
    {
      "cell_type": "code",
      "source": [
        "#12.Write a for loop to print numbers from 1 to 100\n",
        "for i in range(1,101):\n",
        "  print(i)"
      ],
      "metadata": {
        "colab": {
          "base_uri": "https://localhost:8080/"
        },
        "id": "YV4uAqrMUukJ",
        "outputId": "d225ce19-1aa1-48cb-8896-a54cec236d4e"
      },
      "execution_count": 14,
      "outputs": [
        {
          "output_type": "stream",
          "name": "stdout",
          "text": [
            "1\n",
            "2\n",
            "3\n",
            "4\n",
            "5\n",
            "6\n",
            "7\n",
            "8\n",
            "9\n",
            "10\n",
            "11\n",
            "12\n",
            "13\n",
            "14\n",
            "15\n",
            "16\n",
            "17\n",
            "18\n",
            "19\n",
            "20\n",
            "21\n",
            "22\n",
            "23\n",
            "24\n",
            "25\n",
            "26\n",
            "27\n",
            "28\n",
            "29\n",
            "30\n",
            "31\n",
            "32\n",
            "33\n",
            "34\n",
            "35\n",
            "36\n",
            "37\n",
            "38\n",
            "39\n",
            "40\n",
            "41\n",
            "42\n",
            "43\n",
            "44\n",
            "45\n",
            "46\n",
            "47\n",
            "48\n",
            "49\n",
            "50\n",
            "51\n",
            "52\n",
            "53\n",
            "54\n",
            "55\n",
            "56\n",
            "57\n",
            "58\n",
            "59\n",
            "60\n",
            "61\n",
            "62\n",
            "63\n",
            "64\n",
            "65\n",
            "66\n",
            "67\n",
            "68\n",
            "69\n",
            "70\n",
            "71\n",
            "72\n",
            "73\n",
            "74\n",
            "75\n",
            "76\n",
            "77\n",
            "78\n",
            "79\n",
            "80\n",
            "81\n",
            "82\n",
            "83\n",
            "84\n",
            "85\n",
            "86\n",
            "87\n",
            "88\n",
            "89\n",
            "90\n",
            "91\n",
            "92\n",
            "93\n",
            "94\n",
            "95\n",
            "96\n",
            "97\n",
            "98\n",
            "99\n",
            "100\n"
          ]
        }
      ]
    },
    {
      "cell_type": "code",
      "source": [
        "#13.Write a Python program to find the sum of all even numbers between 1 and 50\n",
        "sum1=0\n",
        "for i in range(1,51):\n",
        "  if(i%2==0):\n",
        "    sum1=sum1+i\n",
        "print(sum1)\n"
      ],
      "metadata": {
        "colab": {
          "base_uri": "https://localhost:8080/"
        },
        "id": "SpRpW2P7Uuhv",
        "outputId": "c785b6fc-f32f-475d-9d27-436d0d798e0f"
      },
      "execution_count": 16,
      "outputs": [
        {
          "output_type": "stream",
          "name": "stdout",
          "text": [
            "650\n"
          ]
        }
      ]
    },
    {
      "cell_type": "code",
      "source": [
        "#14.Write a program to reverse a string using a while loop\n",
        "n=input()\n",
        "a=len(n)\n",
        "while(a>0):\n",
        "  print(n[a-1],end=\" \")\n",
        "  a=a-1\n",
        "\n"
      ],
      "metadata": {
        "colab": {
          "base_uri": "https://localhost:8080/"
        },
        "id": "3VaaYJMoUufH",
        "outputId": "d4e1e433-d509-4cba-be6d-86396120902a"
      },
      "execution_count": 17,
      "outputs": [
        {
          "output_type": "stream",
          "name": "stdout",
          "text": [
            "Razia\n",
            "a i z a R "
          ]
        }
      ]
    },
    {
      "cell_type": "code",
      "source": [
        "#15.Write a Python program to calculate the factorial of a number provided by the user using a while loop\n",
        "n=int(input())\n",
        "i=1\n",
        "while(n>0):\n",
        "  i=i*n\n",
        "  n=n-1\n",
        "print(i)\n",
        "\n",
        "\n",
        "\n",
        "\n"
      ],
      "metadata": {
        "colab": {
          "base_uri": "https://localhost:8080/"
        },
        "id": "LpuLc4gtUua4",
        "outputId": "e7f194ab-16ca-4ed5-c32f-b1502564d0f1"
      },
      "execution_count": 22,
      "outputs": [
        {
          "output_type": "stream",
          "name": "stdout",
          "text": [
            "5\n",
            "120\n"
          ]
        }
      ]
    },
    {
      "cell_type": "code",
      "source": [],
      "metadata": {
        "id": "JPPLa5ePUtCK"
      },
      "execution_count": null,
      "outputs": []
    },
    {
      "cell_type": "code",
      "source": [],
      "metadata": {
        "id": "hMxH6KHWUs_V"
      },
      "execution_count": null,
      "outputs": []
    },
    {
      "cell_type": "code",
      "source": [],
      "metadata": {
        "id": "nNu96SJ7Us8_"
      },
      "execution_count": null,
      "outputs": []
    },
    {
      "cell_type": "code",
      "source": [],
      "metadata": {
        "id": "csx3tprRUs6N"
      },
      "execution_count": null,
      "outputs": []
    },
    {
      "cell_type": "code",
      "source": [],
      "metadata": {
        "id": "QSzCgbbzUsth"
      },
      "execution_count": null,
      "outputs": []
    },
    {
      "cell_type": "code",
      "source": [],
      "metadata": {
        "id": "_uKJT2LNvVhU"
      },
      "execution_count": null,
      "outputs": []
    },
    {
      "cell_type": "markdown",
      "source": [],
      "metadata": {
        "id": "fw7g4_9zvpPL"
      }
    }
  ]
}